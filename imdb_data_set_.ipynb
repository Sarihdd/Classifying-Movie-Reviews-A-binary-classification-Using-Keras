{
  "nbformat": 4,
  "nbformat_minor": 0,
  "metadata": {
    "colab": {
      "provenance": []
    },
    "kernelspec": {
      "name": "python3",
      "display_name": "Python 3"
    },
    "language_info": {
      "name": "python"
    }
  },
  "cells": [
    {
      "cell_type": "code",
      "execution_count": 1,
      "metadata": {
        "colab": {
          "base_uri": "https://localhost:8080/"
        },
        "id": "n_672a1rKnyp",
        "outputId": "28f4dad6-f22e-471e-a970-3783496ddacc"
      },
      "outputs": [
        {
          "output_type": "stream",
          "name": "stdout",
          "text": [
            "Downloading data from https://storage.googleapis.com/tensorflow/tf-keras-datasets/imdb.npz\n",
            "17464789/17464789 [==============================] - 1s 0us/step\n"
          ]
        }
      ],
      "source": [
        "from tensorflow.keras.datasets import imdb\n",
        "(train_data,train_labels),(test_data,test_lables)=imdb.load_data(num_words=10000)\n"
      ]
    },
    {
      "cell_type": "code",
      "source": [
        "#Here tarin_data and test_data are list of reviews and train_lables and test_labels are lists in 0s and 1s where 0 stand for negative and 1 stand for postive\n",
        "train_data[0]"
      ],
      "metadata": {
        "colab": {
          "base_uri": "https://localhost:8080/"
        },
        "id": "Blix2wupLtCf",
        "outputId": "ee02a968-098e-4941-c456-45595ab83e52"
      },
      "execution_count": 2,
      "outputs": [
        {
          "output_type": "execute_result",
          "data": {
            "text/plain": [
              "[1,\n",
              " 14,\n",
              " 22,\n",
              " 16,\n",
              " 43,\n",
              " 530,\n",
              " 973,\n",
              " 1622,\n",
              " 1385,\n",
              " 65,\n",
              " 458,\n",
              " 4468,\n",
              " 66,\n",
              " 3941,\n",
              " 4,\n",
              " 173,\n",
              " 36,\n",
              " 256,\n",
              " 5,\n",
              " 25,\n",
              " 100,\n",
              " 43,\n",
              " 838,\n",
              " 112,\n",
              " 50,\n",
              " 670,\n",
              " 2,\n",
              " 9,\n",
              " 35,\n",
              " 480,\n",
              " 284,\n",
              " 5,\n",
              " 150,\n",
              " 4,\n",
              " 172,\n",
              " 112,\n",
              " 167,\n",
              " 2,\n",
              " 336,\n",
              " 385,\n",
              " 39,\n",
              " 4,\n",
              " 172,\n",
              " 4536,\n",
              " 1111,\n",
              " 17,\n",
              " 546,\n",
              " 38,\n",
              " 13,\n",
              " 447,\n",
              " 4,\n",
              " 192,\n",
              " 50,\n",
              " 16,\n",
              " 6,\n",
              " 147,\n",
              " 2025,\n",
              " 19,\n",
              " 14,\n",
              " 22,\n",
              " 4,\n",
              " 1920,\n",
              " 4613,\n",
              " 469,\n",
              " 4,\n",
              " 22,\n",
              " 71,\n",
              " 87,\n",
              " 12,\n",
              " 16,\n",
              " 43,\n",
              " 530,\n",
              " 38,\n",
              " 76,\n",
              " 15,\n",
              " 13,\n",
              " 1247,\n",
              " 4,\n",
              " 22,\n",
              " 17,\n",
              " 515,\n",
              " 17,\n",
              " 12,\n",
              " 16,\n",
              " 626,\n",
              " 18,\n",
              " 2,\n",
              " 5,\n",
              " 62,\n",
              " 386,\n",
              " 12,\n",
              " 8,\n",
              " 316,\n",
              " 8,\n",
              " 106,\n",
              " 5,\n",
              " 4,\n",
              " 2223,\n",
              " 5244,\n",
              " 16,\n",
              " 480,\n",
              " 66,\n",
              " 3785,\n",
              " 33,\n",
              " 4,\n",
              " 130,\n",
              " 12,\n",
              " 16,\n",
              " 38,\n",
              " 619,\n",
              " 5,\n",
              " 25,\n",
              " 124,\n",
              " 51,\n",
              " 36,\n",
              " 135,\n",
              " 48,\n",
              " 25,\n",
              " 1415,\n",
              " 33,\n",
              " 6,\n",
              " 22,\n",
              " 12,\n",
              " 215,\n",
              " 28,\n",
              " 77,\n",
              " 52,\n",
              " 5,\n",
              " 14,\n",
              " 407,\n",
              " 16,\n",
              " 82,\n",
              " 2,\n",
              " 8,\n",
              " 4,\n",
              " 107,\n",
              " 117,\n",
              " 5952,\n",
              " 15,\n",
              " 256,\n",
              " 4,\n",
              " 2,\n",
              " 7,\n",
              " 3766,\n",
              " 5,\n",
              " 723,\n",
              " 36,\n",
              " 71,\n",
              " 43,\n",
              " 530,\n",
              " 476,\n",
              " 26,\n",
              " 400,\n",
              " 317,\n",
              " 46,\n",
              " 7,\n",
              " 4,\n",
              " 2,\n",
              " 1029,\n",
              " 13,\n",
              " 104,\n",
              " 88,\n",
              " 4,\n",
              " 381,\n",
              " 15,\n",
              " 297,\n",
              " 98,\n",
              " 32,\n",
              " 2071,\n",
              " 56,\n",
              " 26,\n",
              " 141,\n",
              " 6,\n",
              " 194,\n",
              " 7486,\n",
              " 18,\n",
              " 4,\n",
              " 226,\n",
              " 22,\n",
              " 21,\n",
              " 134,\n",
              " 476,\n",
              " 26,\n",
              " 480,\n",
              " 5,\n",
              " 144,\n",
              " 30,\n",
              " 5535,\n",
              " 18,\n",
              " 51,\n",
              " 36,\n",
              " 28,\n",
              " 224,\n",
              " 92,\n",
              " 25,\n",
              " 104,\n",
              " 4,\n",
              " 226,\n",
              " 65,\n",
              " 16,\n",
              " 38,\n",
              " 1334,\n",
              " 88,\n",
              " 12,\n",
              " 16,\n",
              " 283,\n",
              " 5,\n",
              " 16,\n",
              " 4472,\n",
              " 113,\n",
              " 103,\n",
              " 32,\n",
              " 15,\n",
              " 16,\n",
              " 5345,\n",
              " 19,\n",
              " 178,\n",
              " 32]"
            ]
          },
          "metadata": {},
          "execution_count": 2
        }
      ]
    },
    {
      "cell_type": "code",
      "source": [
        "train_labels[0]"
      ],
      "metadata": {
        "colab": {
          "base_uri": "https://localhost:8080/"
        },
        "id": "-hS9WQUdMeCd",
        "outputId": "6aa05fa4-47cb-40d2-90e8-aa8ed3ae4ca0"
      },
      "execution_count": 4,
      "outputs": [
        {
          "output_type": "execute_result",
          "data": {
            "text/plain": [
              "1"
            ]
          },
          "metadata": {},
          "execution_count": 4
        }
      ]
    },
    {
      "cell_type": "code",
      "source": [
        "\n",
        "max([max(sequence) for sequence in train_data])"
      ],
      "metadata": {
        "colab": {
          "base_uri": "https://localhost:8080/"
        },
        "id": "iMLHZtOMMjp7",
        "outputId": "cf0b6360-06ac-4adf-ca72-c480fe8f38ca"
      },
      "execution_count": 5,
      "outputs": [
        {
          "output_type": "execute_result",
          "data": {
            "text/plain": [
              "9999"
            ]
          },
          "metadata": {},
          "execution_count": 5
        }
      ]
    },
    {
      "cell_type": "code",
      "source": [
        "word_index=imdb.get_word_index()\n",
        "reverse_word_index=dict([(value,key) for (key,value) in word_index.items()])\n",
        "decoded_review=\" \".join([reverse_word_index.get(i-3,\"?\") for i in train_data[0]])\n"
      ],
      "metadata": {
        "id": "1x0vg-o8NIUx"
      },
      "execution_count": 42,
      "outputs": []
    },
    {
      "cell_type": "code",
      "source": [
        "#encoding the integer sequence via multihot encoding\n",
        "import numpy as np\n",
        "def vectorize_sequences(sequences,dimension=10000):\n",
        "    results=np.zeros((len(sequences),dimension))\n",
        "    for i,sequence in enumerate(sequences):\n",
        "        for j in sequence:\n",
        "          results[i,j]=1\n",
        "    return results\n",
        "x_train=vectorize_sequences(train_data)\n",
        "x_test=vectorize_sequences(test_data)\n",
        "\n",
        ""
      ],
      "metadata": {
        "id": "6izieASaNJUk"
      },
      "execution_count": 12,
      "outputs": []
    },
    {
      "cell_type": "code",
      "source": [
        "x_train[0]"
      ],
      "metadata": {
        "colab": {
          "base_uri": "https://localhost:8080/"
        },
        "id": "lM0Sh5rnNJXK",
        "outputId": "bd7be3bd-7e18-44fa-865a-f3ed740018f1"
      },
      "execution_count": 13,
      "outputs": [
        {
          "output_type": "execute_result",
          "data": {
            "text/plain": [
              "array([0., 1., 1., ..., 0., 0., 0.])"
            ]
          },
          "metadata": {},
          "execution_count": 13
        }
      ]
    },
    {
      "cell_type": "code",
      "source": [
        "#We should vectorize our lables too which is pretty staright forward\n",
        "y_train=np.array(train_labels).astype(\"float32\")\n",
        "y_test=np.array(test_lables).astype(\"float32\")"
      ],
      "metadata": {
        "id": "c_ouVqXBNJZX"
      },
      "execution_count": 14,
      "outputs": []
    },
    {
      "cell_type": "code",
      "source": [
        "#Bulding the models\n",
        "#model Defination\n",
        "from tensorflow import keras\n",
        "from tensorflow.keras import layers\n",
        "model=keras.Sequential([\n",
        "    layers.Dense(16,activation=\"relu\"),\n",
        "    layers.Dense(16,activation=\"relu\"),\n",
        "    layers.Dense(1,activation=\"sigmoid\")\n",
        "])\n"
      ],
      "metadata": {
        "id": "XsDG7J7YNJb3"
      },
      "execution_count": 18,
      "outputs": []
    },
    {
      "cell_type": "code",
      "source": [
        "#compling the model\n",
        "model.compile(optimizer=\"rmsprop\",\n",
        "              loss=\"binary_crossentropy\",\n",
        "              metrics=[\"accuracy\"])"
      ],
      "metadata": {
        "id": "DGDCHMGXNJeZ"
      },
      "execution_count": 21,
      "outputs": []
    },
    {
      "cell_type": "code",
      "source": [
        "#setting aside the validation set\n",
        "x_val=x_train[:10000]\n",
        "partial_x_train=x_train[10000:]\n",
        "y_val=y_train[:10000]\n",
        "partial_y_train=y_train[10000:]"
      ],
      "metadata": {
        "id": "hkvfCs6mNJg4"
      },
      "execution_count": 22,
      "outputs": []
    },
    {
      "cell_type": "code",
      "source": [
        "#Training the model\n",
        "history=model.fit(partial_x_train,\n",
        "                  partial_y_train,\n",
        "                  epochs=20,\n",
        "                  batch_size=512,\n",
        "                  validation_data=(x_val,y_val)\n",
        "                  )"
      ],
      "metadata": {
        "colab": {
          "base_uri": "https://localhost:8080/"
        },
        "id": "hf36Ee6dNJjI",
        "outputId": "d47e3c2e-7e4b-4a37-bf8c-9a8268bda7e0"
      },
      "execution_count": 24,
      "outputs": [
        {
          "output_type": "stream",
          "name": "stdout",
          "text": [
            "Epoch 1/20\n",
            "30/30 [==============================] - 5s 90ms/step - loss: 0.5170 - accuracy: 0.7915 - val_loss: 0.3938 - val_accuracy: 0.8626\n",
            "Epoch 2/20\n",
            "30/30 [==============================] - 1s 33ms/step - loss: 0.3224 - accuracy: 0.8923 - val_loss: 0.3194 - val_accuracy: 0.8791\n",
            "Epoch 3/20\n",
            "30/30 [==============================] - 1s 33ms/step - loss: 0.2424 - accuracy: 0.9192 - val_loss: 0.2979 - val_accuracy: 0.8800\n",
            "Epoch 4/20\n",
            "30/30 [==============================] - 2s 51ms/step - loss: 0.1989 - accuracy: 0.9309 - val_loss: 0.2797 - val_accuracy: 0.8848\n",
            "Epoch 5/20\n",
            "30/30 [==============================] - 2s 53ms/step - loss: 0.1639 - accuracy: 0.9455 - val_loss: 0.2971 - val_accuracy: 0.8828\n",
            "Epoch 6/20\n",
            "30/30 [==============================] - 2s 82ms/step - loss: 0.1402 - accuracy: 0.9559 - val_loss: 0.3033 - val_accuracy: 0.8826\n",
            "Epoch 7/20\n",
            "30/30 [==============================] - 3s 90ms/step - loss: 0.1245 - accuracy: 0.9601 - val_loss: 0.3028 - val_accuracy: 0.8841\n",
            "Epoch 8/20\n",
            "30/30 [==============================] - 2s 56ms/step - loss: 0.1039 - accuracy: 0.9683 - val_loss: 0.3456 - val_accuracy: 0.8752\n",
            "Epoch 9/20\n",
            "30/30 [==============================] - 1s 35ms/step - loss: 0.0917 - accuracy: 0.9721 - val_loss: 0.3242 - val_accuracy: 0.8803\n",
            "Epoch 10/20\n",
            "30/30 [==============================] - 1s 36ms/step - loss: 0.0796 - accuracy: 0.9785 - val_loss: 0.3524 - val_accuracy: 0.8789\n",
            "Epoch 11/20\n",
            "30/30 [==============================] - 1s 33ms/step - loss: 0.0704 - accuracy: 0.9804 - val_loss: 0.3773 - val_accuracy: 0.8722\n",
            "Epoch 12/20\n",
            "30/30 [==============================] - 1s 36ms/step - loss: 0.0566 - accuracy: 0.9861 - val_loss: 0.3796 - val_accuracy: 0.8759\n",
            "Epoch 13/20\n",
            "30/30 [==============================] - 1s 33ms/step - loss: 0.0506 - accuracy: 0.9890 - val_loss: 0.4076 - val_accuracy: 0.8714\n",
            "Epoch 14/20\n",
            "30/30 [==============================] - 1s 32ms/step - loss: 0.0438 - accuracy: 0.9903 - val_loss: 0.4249 - val_accuracy: 0.8739\n",
            "Epoch 15/20\n",
            "30/30 [==============================] - 1s 33ms/step - loss: 0.0367 - accuracy: 0.9913 - val_loss: 0.4469 - val_accuracy: 0.8744\n",
            "Epoch 16/20\n",
            "30/30 [==============================] - 1s 33ms/step - loss: 0.0317 - accuracy: 0.9931 - val_loss: 0.5043 - val_accuracy: 0.8666\n",
            "Epoch 17/20\n",
            "30/30 [==============================] - 1s 36ms/step - loss: 0.0257 - accuracy: 0.9958 - val_loss: 0.4932 - val_accuracy: 0.8720\n",
            "Epoch 18/20\n",
            "30/30 [==============================] - 1s 50ms/step - loss: 0.0264 - accuracy: 0.9951 - val_loss: 0.5149 - val_accuracy: 0.8706\n",
            "Epoch 19/20\n",
            "30/30 [==============================] - 2s 55ms/step - loss: 0.0200 - accuracy: 0.9967 - val_loss: 0.5322 - val_accuracy: 0.8726\n",
            "Epoch 20/20\n",
            "30/30 [==============================] - 1s 39ms/step - loss: 0.0166 - accuracy: 0.9978 - val_loss: 0.5639 - val_accuracy: 0.8685\n"
          ]
        }
      ]
    },
    {
      "cell_type": "code",
      "source": [
        "#From above we can see after the fourth epochs the model is overfitting in this case we can stop training\n",
        "#I will again do it later from scratch upto 4 epochs only"
      ],
      "metadata": {
        "id": "PnWft0-PYHTi"
      },
      "execution_count": 29,
      "outputs": []
    },
    {
      "cell_type": "code",
      "source": [
        "history_dict=history.history\n",
        "history_dict.keys()"
      ],
      "metadata": {
        "colab": {
          "base_uri": "https://localhost:8080/"
        },
        "id": "W5ZkHHQNNJlX",
        "outputId": "5166652c-9e5f-4abf-dc84-f499fc3789a3"
      },
      "execution_count": 25,
      "outputs": [
        {
          "output_type": "execute_result",
          "data": {
            "text/plain": [
              "dict_keys(['loss', 'accuracy', 'val_loss', 'val_accuracy'])"
            ]
          },
          "metadata": {},
          "execution_count": 25
        }
      ]
    },
    {
      "cell_type": "code",
      "source": [
        "#plotting the training and validation loss\n",
        "import matplotlib.pyplot as plt\n",
        "history_dict=history.history\n",
        "loss_values=history_dict[\"loss\"]\n",
        "val_loss_values=history_dict[\"val_loss\"]\n",
        "epochs=range(1, len(loss_values)+1)\n",
        "plt.plot(epochs,loss_values,\"bo\",label=\"Training loss\")\n",
        "plt.plot(epochs,val_loss_values,\"b\",label=\"validation loss\")\n",
        "plt.title(\"Training and validation loss\")\n",
        "plt.xlabel(\"Epochs\")\n",
        "plt.ylabel(\"loss\")\n",
        "plt.legend()\n",
        "plt.show()\n"
      ],
      "metadata": {
        "colab": {
          "base_uri": "https://localhost:8080/",
          "height": 472
        },
        "id": "dADYiIB_NJnR",
        "outputId": "9bf869f7-a64f-4a4f-c0a1-73afa5ffe5c2"
      },
      "execution_count": 26,
      "outputs": [
        {
          "output_type": "display_data",
          "data": {
            "text/plain": [
              "<Figure size 640x480 with 1 Axes>"
            ],
            "image/png": "[encoded data removed]"
          },
          "metadata": {}
        }
      ]
    },
    {
      "cell_type": "code",
      "source": [
        "#plotting the validation accuracy and training\n",
        "plt.clf()\n",
        "acc=history_dict[\"accuracy\"]\n",
        "val_acc=history_dict[\"val_accuracy\"]\n",
        "plt.plot(epochs,acc,\"bo\",label=\"training acc\")\n",
        "plt.plot(epochs,val_acc,\"b\",label=\"validation acc\")\n",
        "plt.title(\"Training and validation accuracy\")\n",
        "plt.xlabel(\"Epochs\")\n",
        "plt.ylabel(\"Accuracy\")\n",
        "plt.legend()\n",
        "plt.show()"
      ],
      "metadata": {
        "colab": {
          "base_uri": "https://localhost:8080/",
          "height": 472
        },
        "id": "k1VlISicNJp0",
        "outputId": "07830464-84b6-499c-dc89-3409a46939ef"
      },
      "execution_count": 28,
      "outputs": [
        {
          "output_type": "display_data",
          "data": {
            "text/plain": [
              "<Figure size 640x480 with 1 Axes>"
            ],
            "image/png": "[encoded data removed]"
          },
          "metadata": {}
        }
      ]
    },
    {
      "cell_type": "code",
      "source": [
        "#Retraining the model from scratch to avoid overfitting\n",
        "model=keras.Sequential([\n",
        "    layers.Dense(16,activation=\"relu\"),\n",
        "    layers.Dense(16,activation=\"relu\"),\n",
        "    layers.Dense(1,activation=\"sigmoid\")\n",
        "])"
      ],
      "metadata": {
        "id": "lg1gadgaNJsP"
      },
      "execution_count": 32,
      "outputs": []
    },
    {
      "cell_type": "code",
      "source": [
        "model.compile(optimizer=\"rmsprop\",\n",
        "              loss=\"binary_crossentropy\",\n",
        "              metrics=[\"accuracy\"])\n"
      ],
      "metadata": {
        "id": "FoaeENhuXcLi"
      },
      "execution_count": 34,
      "outputs": []
    },
    {
      "cell_type": "code",
      "source": [
        "model.fit(x_train,y_train,epochs=4,batch_size=512)\n",
        "results=model.evaluate(x_test,y_test)"
      ],
      "metadata": {
        "colab": {
          "base_uri": "https://localhost:8080/"
        },
        "id": "Ap1VXnERXcOU",
        "outputId": "55da89fd-1c58-4f7b-bd0f-04249c0eaf7e"
      },
      "execution_count": 35,
      "outputs": [
        {
          "output_type": "stream",
          "name": "stdout",
          "text": [
            "Epoch 1/4\n",
            "49/49 [==============================] - 2s 24ms/step - loss: 0.4558 - accuracy: 0.8108\n",
            "Epoch 2/4\n",
            "49/49 [==============================] - 1s 24ms/step - loss: 0.2662 - accuracy: 0.9049\n",
            "Epoch 3/4\n",
            "49/49 [==============================] - 1s 30ms/step - loss: 0.2084 - accuracy: 0.9255\n",
            "Epoch 4/4\n",
            "49/49 [==============================] - 2s 34ms/step - loss: 0.1747 - accuracy: 0.9382\n",
            "782/782 [==============================] - 2s 2ms/step - loss: 0.2884 - accuracy: 0.8847\n"
          ]
        }
      ]
    },
    {
      "cell_type": "code",
      "source": [
        "#Using a trained model to generate predictions on new data\n",
        "model.predict(x_test)"
      ],
      "metadata": {
        "colab": {
          "base_uri": "https://localhost:8080/"
        },
        "id": "hA4jOkm6XcRj",
        "outputId": "6449fd4c-417a-4e2a-d4e1-2c92782c64fd"
      },
      "execution_count": 36,
      "outputs": [
        {
          "output_type": "stream",
          "name": "stdout",
          "text": [
            "782/782 [==============================] - 3s 3ms/step\n"
          ]
        },
        {
          "output_type": "execute_result",
          "data": {
            "text/plain": [
              "array([[0.17224272],\n",
              "       [0.9997083 ],\n",
              "       [0.79837847],\n",
              "       ...,\n",
              "       [0.09015435],\n",
              "       [0.05452556],\n",
              "       [0.59094244]], dtype=float32)"
            ]
          },
          "metadata": {},
          "execution_count": 36
        }
      ]
    },
    {
      "cell_type": "code",
      "source": [
        "# The model is confident for some samples (0.99 or more) but less confident for others (0.1,0.5)"
      ],
      "metadata": {
        "id": "7YFQ6FfpXcT1"
      },
      "execution_count": 37,
      "outputs": []
    },
    {
      "cell_type": "code",
      "source": [
        "\"\"\"\n",
        "1) Used two layers before the final classification\n",
        "\n",
        "2) Can used more units 32, 64,128\n",
        "\n",
        "3) can use mse loss function inplace of binary_crossentropy\n",
        "\n",
        "4) Can used tanh activation instead of relu\n",
        "\"\"\""
      ],
      "metadata": {
        "colab": {
          "base_uri": "https://localhost:8080/",
          "height": 53
        },
        "id": "_nZEv0V_XcXY",
        "outputId": "edaf41f3-4af9-4fe0-d33d-3ab17522ef5f"
      },
      "execution_count": 41,
      "outputs": [
        {
          "output_type": "execute_result",
          "data": {
            "text/plain": [
              "'\\n1) Used two layers before the final classification\\n\\n2) Can used more units 32, 64,128\\n\\n3) can use mse loss function inplace of binary_crossentropy\\n\\n4) Can used tanh activation instead of relu\\n'"
            ],
            "application/vnd.google.colaboratory.intrinsic+json": {
              "type": "string"
            }
          },
          "metadata": {},
          "execution_count": 41
        }
      ]
    },
    {
      "cell_type": "markdown",
      "source": [],
      "metadata": {
        "id": "B-UmrRCSbEMR"
      }
    },
    {
      "cell_type": "code",
      "source": [
        "#Lets train with some changes\n",
        "#Building the model\n",
        "from tensorflow import keras\n",
        "from tensorflow.keras import layers\n",
        "model=keras.Sequential([\n",
        "    layers.Dense(64,activation=\"tanh\"),\n",
        "    layers.Dense(64,activation=\"tanh\"),\n",
        "    layers.Dense(1,activation=\"sigmoid\")\n",
        "])"
      ],
      "metadata": {
        "id": "mGw-EZyKNJuM"
      },
      "execution_count": 43,
      "outputs": []
    },
    {
      "cell_type": "code",
      "source": [
        "#compiling the model\n",
        "model.compile(\n",
        "    optimizer=\"rmsprop\",\n",
        "    loss=\"mse\",\n",
        "    metrics=[\"accuracy\"]\n",
        "\n",
        "\n",
        ")"
      ],
      "metadata": {
        "id": "6O8pqKa6NJxM"
      },
      "execution_count": 44,
      "outputs": []
    },
    {
      "cell_type": "code",
      "source": [
        "#Training the model\n",
        "history=model.fit(partial_x_train,\n",
        "                   partial_y_train,\n",
        "                   batch_size=512,\n",
        "                   epochs=5,\n",
        "                   validation_data=(x_val,y_val)\n",
        "\n",
        "                   )\n"
      ],
      "metadata": {
        "colab": {
          "base_uri": "https://localhost:8080/"
        },
        "id": "kQ7yMnx9giLN",
        "outputId": "4d4b6a92-a547-4f03-d8fe-78435dc654a8"
      },
      "execution_count": 45,
      "outputs": [
        {
          "output_type": "stream",
          "name": "stdout",
          "text": [
            "Epoch 1/5\n",
            "30/30 [==============================] - 4s 117ms/step - loss: 0.1667 - accuracy: 0.7579 - val_loss: 0.1116 - val_accuracy: 0.8551\n",
            "Epoch 2/5\n",
            "30/30 [==============================] - 2s 62ms/step - loss: 0.0889 - accuracy: 0.8856 - val_loss: 0.0970 - val_accuracy: 0.8701\n",
            "Epoch 3/5\n",
            "30/30 [==============================] - 2s 62ms/step - loss: 0.0687 - accuracy: 0.9103 - val_loss: 0.0823 - val_accuracy: 0.8881\n",
            "Epoch 4/5\n",
            "30/30 [==============================] - 2s 56ms/step - loss: 0.0592 - accuracy: 0.9240 - val_loss: 0.0872 - val_accuracy: 0.8806\n",
            "Epoch 5/5\n",
            "30/30 [==============================] - 2s 61ms/step - loss: 0.0466 - accuracy: 0.9411 - val_loss: 0.1009 - val_accuracy: 0.8674\n"
          ]
        }
      ]
    },
    {
      "cell_type": "code",
      "source": [
        "#Hmmmmmmmmm no changes at all"
      ],
      "metadata": {
        "id": "0skg9wkkgm3H"
      },
      "execution_count": 46,
      "outputs": []
    },
    {
      "cell_type": "code",
      "source": [],
      "metadata": {
        "id": "RoHRSpByg6kc"
      },
      "execution_count": null,
      "outputs": []
    }
  ]
}